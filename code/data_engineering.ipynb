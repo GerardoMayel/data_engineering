{
 "cells": [
  {
   "cell_type": "code",
   "execution_count": null,
   "metadata": {},
   "outputs": [],
   "source": []
  }
 ],
 "metadata": {
  "interpreter": {
   "hash": "615d0c51c71183079d3e2908d52c3e11f16ff91fe2cf8d4f7e0196c394bbca8a"
  },
  "kernelspec": {
   "display_name": "Python 3.9.0 64-bit ('data_eng': venv)",
   "language": "python",
   "name": "python3"
  },
  "language_info": {
   "name": "python",
   "version": "3.9.0"
  },
  "orig_nbformat": 4
 },
 "nbformat": 4,
 "nbformat_minor": 2
}
